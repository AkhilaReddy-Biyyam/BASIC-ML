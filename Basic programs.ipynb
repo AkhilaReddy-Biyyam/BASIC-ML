{
  "nbformat": 4,
  "nbformat_minor": 0,
  "metadata": {
    "colab": {
      "name": "Untitled0.ipynb",
      "provenance": [],
      "collapsed_sections": [],
      "authorship_tag": "ABX9TyPu5B06nheRqQWyFrPGHKe4",
      "include_colab_link": true
    },
    "kernelspec": {
      "name": "python3",
      "display_name": "Python 3"
    },
    "language_info": {
      "name": "python"
    }
  },
  "cells": [
    {
      "cell_type": "markdown",
      "metadata": {
        "id": "view-in-github",
        "colab_type": "text"
      },
      "source": [
        "<a href=\"https://colab.research.google.com/github/AkhilaReddy-Biyyam/BASIC-ML/blob/main/Basic%20programs.ipynb\" target=\"_parent\"><img src=\"https://colab.research.google.com/assets/colab-badge.svg\" alt=\"Open In Colab\"/></a>"
      ]
    },
    {
      "cell_type": "markdown",
      "metadata": {
        "id": "27YFaZp8U69B"
      },
      "source": [
        "1.Program to print sum of the digits of given number\n"
      ]
    },
    {
      "cell_type": "code",
      "metadata": {
        "colab": {
          "base_uri": "https://localhost:8080/"
        },
        "id": "mQBTCKZNVFuc",
        "outputId": "e2b2bdce-f198-4e8f-9d35-0bbfc9a752c3"
      },
      "source": [
        "n=int(input())\n",
        "sumd=0\n",
        "while n!=0:\n",
        "\tr=n%10\n",
        "\tsumd+=r\n",
        "\tn=n//10\n",
        "print(sumd)\n"
      ],
      "execution_count": 1,
      "outputs": [
        {
          "output_type": "stream",
          "text": [
            "234\n",
            "9\n"
          ],
          "name": "stdout"
        }
      ]
    },
    {
      "cell_type": "markdown",
      "metadata": {
        "id": "3AglhZKfV2Uq"
      },
      "source": [
        "2.Program to determine whether the given number is Armstrong number or not"
      ]
    },
    {
      "cell_type": "code",
      "metadata": {
        "colab": {
          "base_uri": "https://localhost:8080/"
        },
        "id": "77cYm-OSV_YW",
        "outputId": "3e409fdd-81ba-43b3-e147-05284f9356e7"
      },
      "source": [
        "n=int(input())\n",
        "l=len(str(n))\n",
        "temp=n\n",
        "sumd=0\n",
        "while n!=0:\n",
        "\tr=n%10\n",
        "\tsumd+=r**l\n",
        "\tn=n//10\n",
        "if sumd==temp:\n",
        "\tprint(\"Armstrong\")\n",
        "else:\n",
        "\tprint(\"Not Armstrong\")\n"
      ],
      "execution_count": 3,
      "outputs": [
        {
          "output_type": "stream",
          "text": [
            "153\n",
            "Armstrong\n"
          ],
          "name": "stdout"
        }
      ]
    },
    {
      "cell_type": "markdown",
      "metadata": {
        "id": "75NOWZ1xWf8c"
      },
      "source": [
        "3.Program to determine whether the given year is leap year or not"
      ]
    },
    {
      "cell_type": "code",
      "metadata": {
        "colab": {
          "base_uri": "https://localhost:8080/"
        },
        "id": "Kfc7jXm9Wipb",
        "outputId": "c6b0be62-b7ed-49c8-f77c-e94bf77d69d5"
      },
      "source": [
        "n=int(input())\n",
        "if (n%4==0 and n%100!=0) or n%400==0:\n",
        "\tprint(\"LEAP YEAR\")\n",
        "else:\n",
        "\tprint(\"ORDINARY YEAR\")"
      ],
      "execution_count": 5,
      "outputs": [
        {
          "output_type": "stream",
          "text": [
            "2024\n",
            "LEAP YEAR\n"
          ],
          "name": "stdout"
        }
      ]
    },
    {
      "cell_type": "code",
      "metadata": {
        "id": "zLeMQ1HFWu9O"
      },
      "source": [
        ""
      ],
      "execution_count": null,
      "outputs": []
    }
  ]
}